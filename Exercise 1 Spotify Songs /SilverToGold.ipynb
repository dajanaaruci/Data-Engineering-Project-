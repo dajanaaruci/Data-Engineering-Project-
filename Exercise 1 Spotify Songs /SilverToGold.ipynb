{
 "cells": [
  {
   "cell_type": "markdown",
   "id": "3d5202d9",
   "metadata": {},
   "source": [
    "<h1 style=\"color: #3498db;text-align: center;\">SILVER TO GOLD</h1>"
   ]
  },
  {
   "cell_type": "markdown",
   "id": "c5dc5d96",
   "metadata": {},
   "source": [
    "## Step 1.1 - Creating a party track Feature\n",
    "The 'party_track' feature flags songs that are highly energetic and danceable, which are the primary characteristics for party music. The threshold for both energy and danceability is set at 0.7, meaning any song with both values greater than 0.7 is labeled as a 'party track' (True), otherwise it's labeled False."
   ]
  },
  {
   "cell_type": "code",
   "execution_count": 15,
   "id": "841380e4",
   "metadata": {},
   "outputs": [],
   "source": [
    "import pandas as pd\n",
    "import numpy as np"
   ]
  },
  {
   "cell_type": "code",
   "execution_count": 16,
   "id": "629a7924",
   "metadata": {},
   "outputs": [],
   "source": [
    "silver_file_path ='silver/music_data_silver_layer.csv'\n",
    "\n",
    "df_gold = pd.read_csv(silver_file_path)"
   ]
  },
  {
   "cell_type": "code",
   "execution_count": 17,
   "id": "9dee1592",
   "metadata": {},
   "outputs": [
    {
     "data": {
      "text/html": [
       "<div>\n",
       "<style scoped>\n",
       "    .dataframe tbody tr th:only-of-type {\n",
       "        vertical-align: middle;\n",
       "    }\n",
       "\n",
       "    .dataframe tbody tr th {\n",
       "        vertical-align: top;\n",
       "    }\n",
       "\n",
       "    .dataframe thead th {\n",
       "        text-align: right;\n",
       "    }\n",
       "</style>\n",
       "<table border=\"1\" class=\"dataframe\">\n",
       "  <thead>\n",
       "    <tr style=\"text-align: right;\">\n",
       "      <th></th>\n",
       "      <th>id</th>\n",
       "      <th>name</th>\n",
       "      <th>artists</th>\n",
       "      <th>danceability</th>\n",
       "      <th>energy</th>\n",
       "      <th>key</th>\n",
       "      <th>loudness</th>\n",
       "      <th>mode</th>\n",
       "      <th>speechiness</th>\n",
       "      <th>acousticness</th>\n",
       "      <th>instrumentalness</th>\n",
       "      <th>liveness</th>\n",
       "      <th>valence</th>\n",
       "      <th>tempo</th>\n",
       "      <th>duration_ms</th>\n",
       "      <th>lyrics</th>\n",
       "    </tr>\n",
       "  </thead>\n",
       "  <tbody>\n",
       "    <tr>\n",
       "      <th>0</th>\n",
       "      <td>0Prct5TDjAnEgIqbxcldY9</td>\n",
       "      <td>NaN</td>\n",
       "      <td>HELLYEAH</td>\n",
       "      <td>0.417925</td>\n",
       "      <td>0.6050</td>\n",
       "      <td>7</td>\n",
       "      <td>0.752797</td>\n",
       "      <td>1</td>\n",
       "      <td>0.055908</td>\n",
       "      <td>0.001677</td>\n",
       "      <td>0.608678</td>\n",
       "      <td>0.556797</td>\n",
       "      <td>0.193</td>\n",
       "      <td>0.406529</td>\n",
       "      <td>79500</td>\n",
       "      <td>He said he came from Jamaica, he owned a coupl...</td>\n",
       "    </tr>\n",
       "    <tr>\n",
       "      <th>1</th>\n",
       "      <td>2ASl4wirkeYm3OWZxXKYuq</td>\n",
       "      <td>NaN</td>\n",
       "      <td>Yxngxr1</td>\n",
       "      <td>0.793555</td>\n",
       "      <td>0.6480</td>\n",
       "      <td>7</td>\n",
       "      <td>0.783962</td>\n",
       "      <td>0</td>\n",
       "      <td>0.273837</td>\n",
       "      <td>0.928682</td>\n",
       "      <td>0.000000</td>\n",
       "      <td>0.233888</td>\n",
       "      <td>0.287</td>\n",
       "      <td>0.325023</td>\n",
       "      <td>114000</td>\n",
       "      <td>Fucked a bitch, now she running with my kids A...</td>\n",
       "    </tr>\n",
       "    <tr>\n",
       "      <th>2</th>\n",
       "      <td>69lcggVPmOr9cvPx9kLiiN</td>\n",
       "      <td>Interlude</td>\n",
       "      <td>Glowie</td>\n",
       "      <td>0.000000</td>\n",
       "      <td>0.0354</td>\n",
       "      <td>7</td>\n",
       "      <td>0.614177</td>\n",
       "      <td>0</td>\n",
       "      <td>0.000000</td>\n",
       "      <td>0.934761</td>\n",
       "      <td>0.000000</td>\n",
       "      <td>0.564622</td>\n",
       "      <td>0.000</td>\n",
       "      <td>0.000000</td>\n",
       "      <td>11413</td>\n",
       "      <td>Oh, my God, I'm going crazy</td>\n",
       "    </tr>\n",
       "    <tr>\n",
       "      <th>3</th>\n",
       "      <td>4U7dlZjg1s9pjdppqZy0fm</td>\n",
       "      <td>De Repente</td>\n",
       "      <td>Rosendo</td>\n",
       "      <td>0.661631</td>\n",
       "      <td>0.8820</td>\n",
       "      <td>5</td>\n",
       "      <td>0.827040</td>\n",
       "      <td>1</td>\n",
       "      <td>0.037777</td>\n",
       "      <td>0.010667</td>\n",
       "      <td>0.000013</td>\n",
       "      <td>0.066813</td>\n",
       "      <td>0.939</td>\n",
       "      <td>0.502125</td>\n",
       "      <td>198173</td>\n",
       "      <td>Continuamente se extraña la gente si no puede ...</td>\n",
       "    </tr>\n",
       "    <tr>\n",
       "      <th>4</th>\n",
       "      <td>4v1IBp3Y3rpkWmWzIlkYju</td>\n",
       "      <td>De Repente</td>\n",
       "      <td>Rosendo</td>\n",
       "      <td>0.663646</td>\n",
       "      <td>0.8930</td>\n",
       "      <td>5</td>\n",
       "      <td>0.793271</td>\n",
       "      <td>1</td>\n",
       "      <td>0.040278</td>\n",
       "      <td>0.127606</td>\n",
       "      <td>0.000019</td>\n",
       "      <td>0.075053</td>\n",
       "      <td>0.951</td>\n",
       "      <td>0.502174</td>\n",
       "      <td>199827</td>\n",
       "      <td>Continuamente se extraña la gente si no puede ...</td>\n",
       "    </tr>\n",
       "  </tbody>\n",
       "</table>\n",
       "</div>"
      ],
      "text/plain": [
       "                       id        name   artists  danceability  energy key  \\\n",
       "0  0Prct5TDjAnEgIqbxcldY9         NaN  HELLYEAH      0.417925  0.6050   7   \n",
       "1  2ASl4wirkeYm3OWZxXKYuq         NaN   Yxngxr1      0.793555  0.6480   7   \n",
       "2  69lcggVPmOr9cvPx9kLiiN   Interlude    Glowie      0.000000  0.0354   7   \n",
       "3  4U7dlZjg1s9pjdppqZy0fm  De Repente   Rosendo      0.661631  0.8820   5   \n",
       "4  4v1IBp3Y3rpkWmWzIlkYju  De Repente   Rosendo      0.663646  0.8930   5   \n",
       "\n",
       "   loudness mode  speechiness  acousticness  instrumentalness  liveness  \\\n",
       "0  0.752797    1     0.055908      0.001677          0.608678  0.556797   \n",
       "1  0.783962    0     0.273837      0.928682          0.000000  0.233888   \n",
       "2  0.614177    0     0.000000      0.934761          0.000000  0.564622   \n",
       "3  0.827040    1     0.037777      0.010667          0.000013  0.066813   \n",
       "4  0.793271    1     0.040278      0.127606          0.000019  0.075053   \n",
       "\n",
       "   valence     tempo  duration_ms  \\\n",
       "0    0.193  0.406529        79500   \n",
       "1    0.287  0.325023       114000   \n",
       "2    0.000  0.000000        11413   \n",
       "3    0.939  0.502125       198173   \n",
       "4    0.951  0.502174       199827   \n",
       "\n",
       "                                              lyrics  \n",
       "0  He said he came from Jamaica, he owned a coupl...  \n",
       "1  Fucked a bitch, now she running with my kids A...  \n",
       "2                        Oh, my God, I'm going crazy  \n",
       "3  Continuamente se extraña la gente si no puede ...  \n",
       "4  Continuamente se extraña la gente si no puede ...  "
      ]
     },
     "execution_count": 17,
     "metadata": {},
     "output_type": "execute_result"
    }
   ],
   "source": [
    "df_gold.head()"
   ]
  },
  {
   "cell_type": "code",
   "execution_count": 21,
   "id": "87b44d89",
   "metadata": {},
   "outputs": [],
   "source": [
    "energy_threshold = 0.7\n",
    "danceability_threshold = 0.7\n",
    "\n",
    "df_gold['party_track'] = np.where(\n",
    "    (df_gold['energy'] > energy_threshold) & (df_gold['danceability'] > danceability_threshold),\n",
    "    'Party Track',  # Label for party tracks\n",
    "    'Not Party Track'  # Label for non-party tracks\n",
    ")"
   ]
  },
  {
   "cell_type": "markdown",
   "id": "f247cbc4",
   "metadata": {},
   "source": [
    "#### Key Points:\n",
    "- Energy Threshold (0.7): Songs with an energy score above 0.7 are considered high-energy.\n",
    "\n",
    "- Danceability Threshold (0.7): Similarly, songs with a danceability score above 0.7 are considered highly danceable.\n",
    "\n",
    "- Binary Flag: If both energy and danceability are above their respective thresholds, the song is flagged as a party_track (True). Otherwise, it is flagged as False."
   ]
  },
  {
   "cell_type": "markdown",
   "id": "4334e9c8",
   "metadata": {},
   "source": [
    "# Step 1.2 - Creating a mood category Feature\n",
    "In this step, we are adding a categorical feature called mood_category. The mood of a song is associated with its valence score, which represents the musical positivity of a track. We divide the valence values into three distinct mood categories:\n",
    "\n",
    "- Sad: Songs with a valence score between 0 and 0.3.\n",
    "- Neutral: Songs with a valence score between 0.3 and 0.7.\n",
    "- Happy: Songs with a valence score between 0.7 and 1."
   ]
  },
  {
   "cell_type": "code",
   "execution_count": 22,
   "id": "de2db233",
   "metadata": {},
   "outputs": [],
   "source": [
    "df_gold['mood_category'] = pd.cut(\n",
    "    df_gold['valence'], \n",
    "    bins=[0, 0.3, 0.7, 1],  # Defining ranges for Sad, Neutral, and Happy\n",
    "    labels=['Sad', 'Neutral', 'Happy'],  # Assigning labels to each bin\n",
    "    include_lowest=True  # Ensures that the lowest value is included in the 'Sad' category\n",
    ")"
   ]
  },
  {
   "cell_type": "code",
   "execution_count": 26,
   "id": "69760272",
   "metadata": {},
   "outputs": [
    {
     "name": "stdout",
     "output_type": "stream",
     "text": [
      "Gold layer dataset saved as 'gold/music_data_gold_final_labeled.csv' for analysis and modeling.\n"
     ]
    }
   ],
   "source": [
    "gold_layer = 'gold/music_data_gold_layer.csv'\n",
    "df_gold.to_csv(gold_layer, index=False)\n",
    "print(f\"Gold layer dataset saved as '{gold_layer_filename}' for analysis and modeling.\")"
   ]
  }
 ],
 "metadata": {
  "kernelspec": {
   "display_name": "Python 3 (ipykernel)",
   "language": "python",
   "name": "python3"
  },
  "language_info": {
   "codemirror_mode": {
    "name": "ipython",
    "version": 3
   },
   "file_extension": ".py",
   "mimetype": "text/x-python",
   "name": "python",
   "nbconvert_exporter": "python",
   "pygments_lexer": "ipython3",
   "version": "3.10.9"
  }
 },
 "nbformat": 4,
 "nbformat_minor": 5
}
